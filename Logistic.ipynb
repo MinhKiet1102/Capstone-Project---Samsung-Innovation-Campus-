{
 "cells": [
  {
   "cell_type": "code",
   "execution_count": 1,
   "metadata": {},
   "outputs": [
    {
     "name": "stderr",
     "output_type": "stream",
     "text": [
      "C:\\Users\\ASUS\\AppData\\Local\\Temp\\ipykernel_16892\\1878426469.py:17: FutureWarning: Downcasting object dtype arrays on .fillna, .ffill, .bfill is deprecated and will change in a future version. Call result.infer_objects(copy=False) instead. To opt-in to the future behavior, set `pd.set_option('future.no_silent_downcasting', True)`\n",
      "  labels = data_sample['StarCount'].fillna(0).astype(int)\n"
     ]
    },
    {
     "name": "stdout",
     "output_type": "stream",
     "text": [
      "Accuracy: 0.8145\n"
     ]
    }
   ],
   "source": [
    "import pandas as pd\n",
    "from sklearn.feature_extraction.text import TfidfVectorizer\n",
    "from sklearn.linear_model import LogisticRegression\n",
    "from sklearn.model_selection import train_test_split\n",
    "from sklearn.preprocessing import StandardScaler\n",
    "from sklearn.utils import resample\n",
    "\n",
    "# Đọc dữ liệu từ file Excel\n",
    "file_path = \"D:/SIC/dataset.xlsx\"\n",
    "data = pd.read_excel(file_path, engine='openpyxl')\n",
    "\n",
    "# Giảm kích thước tập dữ liệu (nếu cần)\n",
    "data_sample = resample(data, n_samples=10000, random_state=42)\n",
    "\n",
    "# Chuẩn bị văn bản và nhãn\n",
    "texts = data_sample['Comment'].astype(str).fillna('')\n",
    "labels = data_sample['StarCount'].fillna(0).astype(int)\n",
    "\n",
    "# Sử dụng TF-IDF để chuyển đổi văn bản thành vector\n",
    "vectorizer = TfidfVectorizer(max_features=5000)  # Giới hạn số lượng đặc trưng\n",
    "X = vectorizer.fit_transform(texts)\n",
    "\n",
    "# Chia tập dữ liệu thành tập huấn luyện và tập kiểm tra\n",
    "X_train, X_test, y_train, y_test = train_test_split(X, labels, test_size=0.2, random_state=42)\n",
    "\n",
    "# Chuẩn hóa dữ liệu (không áp dụng mean vì dữ liệu dạng thưa)\n",
    "scaler = StandardScaler(with_mean=False)\n",
    "X_train = scaler.fit_transform(X_train)\n",
    "X_test = scaler.transform(X_test)\n",
    "\n",
    "# Huấn luyện mô hình Logistic Regression\n",
    "model = LogisticRegression(max_iter=1000)\n",
    "model.fit(X_train, y_train)\n",
    "\n",
    "# Đánh giá mô hình\n",
    "accuracy = model.score(X_test, y_test)\n",
    "print(f'Accuracy: {accuracy}')\n"
   ]
  },
  {
   "cell_type": "code",
   "execution_count": 2,
   "metadata": {},
   "outputs": [
    {
     "name": "stdout",
     "output_type": "stream",
     "text": [
      "Độ chính xác: 0.815\n",
      "Số lượng dự đoán chính xác (Prediction): 1629.0\n",
      "Số lượng dự đoán sai: 371.0\n",
      "Recall: 0.8145\n",
      "F1-Score: 0.8177309407566878\n"
     ]
    }
   ],
   "source": [
    "from sklearn.metrics import recall_score, f1_score, accuracy_score\n",
    "y_pred = model.predict(X_test)\n",
    "accuracy = model.score(X_test, y_test)\n",
    "print(f'Độ chính xác: {accuracy:.3f}')\n",
    "correct_predictions = accuracy_score(y_test, y_pred, normalize=False)\n",
    "recall = recall_score(y_test, y_pred, average='weighted')  \n",
    "f_score = f1_score(y_test, y_pred, average='weighted')  \n",
    "incorrect_predictions = len(y_test) - correct_predictions\n",
    "print(\"Số lượng dự đoán chính xác (Prediction):\", correct_predictions)\n",
    "print(\"Số lượng dự đoán sai:\", incorrect_predictions)\n",
    "print(\"Recall:\", recall)\n",
    "print(\"F1-Score:\", f_score)"
   ]
  },
  {
   "cell_type": "code",
   "execution_count": 9,
   "metadata": {},
   "outputs": [
    {
     "name": "stdout",
     "output_type": "stream",
     "text": [
      "[1]\n"
     ]
    }
   ],
   "source": [
    "user_input = \"kém\"\n",
    "user_vector = vectorizer.transform([user_input])\n",
    "user_vector = scaler.transform(user_vector)\n",
    "\n",
    "# Dự đoán với dữ liệu người dùng\n",
    "user_prediction = model.predict(user_vector)\n",
    "print(user_prediction)"
   ]
  },
  {
   "cell_type": "code",
   "execution_count": null,
   "metadata": {},
   "outputs": [],
   "source": []
  }
 ],
 "metadata": {
  "kernelspec": {
   "display_name": "Python 3",
   "language": "python",
   "name": "python3"
  },
  "language_info": {
   "codemirror_mode": {
    "name": "ipython",
    "version": 3
   },
   "file_extension": ".py",
   "mimetype": "text/x-python",
   "name": "python",
   "nbconvert_exporter": "python",
   "pygments_lexer": "ipython3",
   "version": "3.12.4"
  }
 },
 "nbformat": 4,
 "nbformat_minor": 2
}
