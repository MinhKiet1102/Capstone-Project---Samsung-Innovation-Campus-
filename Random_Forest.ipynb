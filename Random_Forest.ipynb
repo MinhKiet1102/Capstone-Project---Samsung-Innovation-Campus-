{
 "cells": [
  {
   "cell_type": "code",
   "execution_count": null,
   "metadata": {},
   "outputs": [],
   "source": [
    "import pandas as pd\n",
    "from sklearn.feature_extraction.text import TfidfVectorizer\n",
    "from sklearn.ensemble import RandomForestClassifier\n",
    "from sklearn.model_selection import train_test_split\n",
    "import numpy as np\n",
    "\n",
    "# Đọc dữ liệu từ file Excel\n",
    "file_path = \"D:/SIC/dataset.xlsx\"\n",
    "data = pd.read_excel(file_path, engine='openpyxl')\n",
    "\n",
    "# Chuẩn bị văn bản và nhãn\n",
    "texts = data['Comment'].astype(str)\n",
    "texts = [text if pd.notna(text) else '' for text in texts]\n",
    "labels = data['Label_new']\n",
    "labels = [star if pd.notna(star) else '' for star in labels]\n",
    "\n",
    "# Sử dụng TF-IDF để chuyển đổi văn bản thành vector\n",
    "vectorizer = TfidfVectorizer()\n",
    "X = vectorizer.fit_transform(texts)\n",
    "\n",
    "# Chia tập dữ liệu thành tập huấn luyện và tập kiểm tra\n",
    "X_train, X_test, y_train, y_test = train_test_split(X, labels, test_size=0.3, random_state=42)\n",
    "\n",
    "# Huấn luyện mô hình RandomForest\n",
    "clf = RandomForestClassifier(n_estimators=300, random_state=42, max_depth=100)\n",
    "clf.fit(X_train, y_train)\n"
   ]
  },
  {
   "cell_type": "code",
   "execution_count": null,
   "metadata": {},
   "outputs": [],
   "source": [
    "# #Nhập 1 file comment\n",
    "# nguồn lưu file chứa tất cả cmt 1 sản phẩm\n",
    "# user_input_df = pd.read_excel('D:/SIC/user_input.xlsx', engine='openpyxl').astype(str)\n",
    "# user_texts = user_input_df['input_text']\n",
    "# user_texts = [text if pd.notna(text) else '' for text in user_texts]\n",
    "\n",
    "# # Chuyển đổi văn bản người dùng nhập vào thành vector\n",
    "# user_vectors = vectorizer.transform(user_texts)\n",
    "\n",
    "# # Dự đoán với dữ liệu người dùng\n",
    "# user_predictions = clf.predict(user_vectors)\n",
    "\n",
    "# # In kết quả dự đoán\n",
    "# print(\"Predicted labels for user inputs:\", user_predictions)\n",
    "# Nhập 1 comment\n",
    "user_input = \"sản phẩm tạm trong tầm giá\"\n",
    "user_vector = vectorizer.transform([user_input])\n",
    "\n",
    "# Dự đoán với dữ liệu người dùng\n",
    "user_prediction = clf.predict(user_vector)\n",
    "print(user_prediction)"
   ]
  },
  {
   "cell_type": "code",
   "execution_count": null,
   "metadata": {},
   "outputs": [],
   "source": [
    "from sklearn.metrics import recall_score, f1_score, accuracy_score\n",
    "y_pred = clf.predict(X_test)\n",
    "accuracy = clf.score(X_test, y_test)\n",
    "print(f'Độ chính xác: {accuracy:.3f}')\n",
    "correct_predictions = accuracy_score(y_test, y_pred, normalize=False)\n",
    "recall = recall_score(y_test, y_pred, average='weighted')  \n",
    "f_score = f1_score(y_test, y_pred, average='weighted')  \n",
    "incorrect_predictions = len(y_test) - correct_predictions\n",
    "print(\"Số lượng dự đoán chính xác (Prediction):\", correct_predictions)\n",
    "print(\"Số lượng dự đoán sai:\", incorrect_predictions)\n",
    "print(\"Recall:\", recall)\n",
    "print(\"F1-Score:\", f_score)"
   ]
  }
 ],
 "metadata": {
  "language_info": {
   "name": "python"
  }
 },
 "nbformat": 4,
 "nbformat_minor": 2
}
