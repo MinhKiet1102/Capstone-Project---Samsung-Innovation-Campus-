{
 "cells": [
  {
   "cell_type": "code",
   "execution_count": 1,
   "metadata": {},
   "outputs": [],
   "source": [
    "import pandas as pd\n",
    "import numpy as np\n",
    "import nltk\n",
    "from nltk.corpus import stopwords\n",
    "import requests\n",
    "import openpyxl"
   ]
  },
  {
   "cell_type": "markdown",
   "metadata": {},
   "source": [
    "<h1>Loại bỏ StopWords"
   ]
  },
  {
   "cell_type": "code",
   "execution_count": 2,
   "metadata": {},
   "outputs": [
    {
     "name": "stderr",
     "output_type": "stream",
     "text": [
      "[nltk_data] Downloading package stopwords to C:\\Users\\Thanh\n",
      "[nltk_data]     No\\AppData\\Roaming\\nltk_data...\n",
      "[nltk_data]   Package stopwords is already up-to-date!\n"
     ]
    }
   ],
   "source": [
    "nltk.download('stopwords')\n",
    "stop_words = set(stopwords.words('english'))"
   ]
  },
  {
   "cell_type": "code",
   "execution_count": 3,
   "metadata": {},
   "outputs": [],
   "source": [
    "vietnamese_stopwords = [\"à\", \"ạ\", \"á\", \"ấy\", \"cũng\", \"đấy\", \"đó\", \"và\", \"của\", \"là\", \"lắm\", \"rất\", \"rồi\", \"với\", \"bị\", \"nhé\", \"nha\", \"nhá\", \"nếu\", \"nữa\", \"này\", \"nấy\", \"nọ\", \"nè\", \"thì\", \"luôn\", \"sẽ\", \"có vẻ\", \"quá\", \"mà\", \"thôi\"]"
   ]
  },
  {
   "cell_type": "code",
   "execution_count": 4,
   "metadata": {},
   "outputs": [],
   "source": [
    "stop_words.update(vietnamese_stopwords)"
   ]
  },
  {
   "cell_type": "code",
   "execution_count": 5,
   "metadata": {},
   "outputs": [],
   "source": [
    "def remove_stop_words(comment):\n",
    "    comment = str(comment).lower()\n",
    "\n",
    "    words = comment.split()\n",
    "    \n",
    "    filtered_words = [word for word in words if word not in stop_words]\n",
    "    \n",
    "    filtered_comment = \" \".join(filtered_words)\n",
    "    \n",
    "    return filtered_comment"
   ]
  },
  {
   "cell_type": "code",
   "execution_count": 11,
   "metadata": {},
   "outputs": [],
   "source": [
    "file_path = \"D:/Visual Studio Code/CrawlData(Selenium-Tab1)/data_cleaning.xlsx\"\n",
    "data = pd.read_excel(file_path,engine='openpyxl')\n",
    "data=data.replace(np.nan, '', regex=True)"
   ]
  },
  {
   "cell_type": "code",
   "execution_count": 12,
   "metadata": {},
   "outputs": [],
   "source": [
    "def get_label(star_count):\n",
    "    if star_count in [4, 5]:\n",
    "        return \"Tốt\"\n",
    "    elif star_count == 3:\n",
    "        return \"Trung bình\"\n",
    "    else:\n",
    "        return \"Không tốt\""
   ]
  },
  {
   "cell_type": "code",
   "execution_count": 13,
   "metadata": {},
   "outputs": [],
   "source": [
    "data['Label'] = data['StarCount'].apply(get_label)"
   ]
  },
  {
   "cell_type": "code",
   "execution_count": 97,
   "metadata": {},
   "outputs": [],
   "source": [
    "data['Filtered_Comment'] = data['Comment'].apply(remove_stop_words)"
   ]
  },
  {
   "cell_type": "code",
   "execution_count": 98,
   "metadata": {},
   "outputs": [],
   "source": [
    "data.to_excel(\"D:/Visual Studio Code/CrawlData(Selenium-Tab1)/dataset_filtered.xlsx\", index=False)"
   ]
  },
  {
   "cell_type": "code",
   "execution_count": null,
   "metadata": {},
   "outputs": [],
   "source": []
  }
 ],
 "metadata": {
  "kernelspec": {
   "display_name": "Python 3",
   "language": "python",
   "name": "python3"
  },
  "language_info": {
   "codemirror_mode": {
    "name": "ipython",
    "version": 3
   },
   "file_extension": ".py",
   "mimetype": "text/x-python",
   "name": "python",
   "nbconvert_exporter": "python",
   "pygments_lexer": "ipython3",
   "version": "3.12.4"
  }
 },
 "nbformat": 4,
 "nbformat_minor": 2
}
