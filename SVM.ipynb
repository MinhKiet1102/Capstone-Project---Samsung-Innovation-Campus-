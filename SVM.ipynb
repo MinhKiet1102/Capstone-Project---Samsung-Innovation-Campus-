{
 "cells": [
  {
   "cell_type": "code",
   "execution_count": null,
   "metadata": {},
   "outputs": [],
   "source": [
    "import pandas as pd\n",
    "from sklearn.feature_extraction.text import TfidfVectorizer\n",
    "from sklearn.svm import SVC\n",
    "from sklearn.model_selection import train_test_split\n",
    "from sklearn.preprocessing import StandardScaler\n",
    "\n",
    "# Đọc dữ liệu từ file Excel\n",
    "file_path = \"D:/SIC/dataset.xlsx\"\n",
    "data = pd.read_excel(file_path, engine='openpyxl')\n",
    "\n",
    "# Chuẩn bị văn bản và nhãn\n",
    "texts = data['Comment'].astype(str).fillna('')\n",
    "labels = data['Label_new'].fillna(0).astype(int)  # Chuyển nhãn thành số nguyên\n",
    "\n",
    "# Sử dụng TF-IDF để chuyển đổi văn bản thành vector\n",
    "vectorizer = TfidfVectorizer()\n",
    "X = vectorizer.fit_transform(texts)\n",
    "\n",
    "# Chia tập dữ liệu thành tập huấn luyện và tập kiểm tra\n",
    "X_train, X_test, y_train, y_test = train_test_split(X, labels, test_size=0.2, random_state=42)\n",
    "\n",
    "# Chuẩn hóa dữ liệu (không áp dụng mean vì dữ liệu dạng thưa)\n",
    "scaler = StandardScaler(with_mean=False)\n",
    "X_train = scaler.fit_transform(X_train)\n",
    "X_test = scaler.transform(X_test)\n",
    "\n",
    "# Huấn luyện mô hình \n",
    "svc = SVC()\n",
    "svc.fit(X_train, y_train)\n",
    "\n",
    "# Đánh giá mô hình\n",
    "accuracy = svc.score(X_test, y_test)\n",
    "print(f'Accuracy: {accuracy}')"
   ]
  },
  {
   "cell_type": "code",
   "execution_count": null,
   "metadata": {},
   "outputs": [],
   "source": [
    "from sklearn.metrics import recall_score, f1_score, accuracy_score\n",
    "y_pred = svc.predict(X_test)\n",
    "accuracy = svc.score(X_test, y_test)\n",
    "print(f'Độ chính xác: {accuracy:.3f}')\n",
    "correct_predictions = accuracy_score(y_test, y_pred, normalize=False)\n",
    "recall = recall_score(y_test, y_pred, average='weighted')  \n",
    "f_score = f1_score(y_test, y_pred, average='weighted')  \n",
    "incorrect_predictions = len(y_test) - correct_predictions\n",
    "print(\"Số lượng dự đoán chính xác (Prediction):\", correct_predictions)\n",
    "print(\"Số lượng dự đoán sai:\", incorrect_predictions)\n",
    "print(\"Recall:\", recall)\n",
    "print(\"F1-Score:\", f_score)"
   ]
  },
  {
   "cell_type": "code",
   "execution_count": null,
   "metadata": {},
   "outputs": [],
   "source": [
    "# #Nhập 1 file comment\n",
    "# nguồn lưu file chứa tất cả cmt 1 sản phẩm\n",
    "# user_input_df = pd.read_excel('D:/SIC/user_input.xlsx', engine='openpyxl').astype(str)\n",
    "# user_texts = user_input_df['input_text']\n",
    "# user_texts = [text if pd.notna(text) else '' for text in user_texts]\n",
    "\n",
    "# # Chuyển đổi văn bản người dùng nhập vào thành vector\n",
    "# user_vectors = vectorizer.transform(user_texts)\n",
    "\n",
    "# # Dự đoán với dữ liệu người dùng\n",
    "# user_predictions = clf.predict(user_vectors)\n",
    "\n",
    "# # In kết quả dự đoán\n",
    "# print(\"Predicted labels for user inputs:\", user_predictions)\n",
    "# Nhập 1 comment\n",
    "user_input = \"sản phẩm tạm trong tầm giá\"\n",
    "user_vector = vectorizer.transform([user_input])\n",
    "\n",
    "# Dự đoán với dữ liệu người dùng\n",
    "user_prediction = clf.predict(user_vector)\n",
    "print(user_prediction)"
   ]
  }
 ],
 "metadata": {
  "language_info": {
   "name": "python"
  }
 },
 "nbformat": 4,
 "nbformat_minor": 2
}
