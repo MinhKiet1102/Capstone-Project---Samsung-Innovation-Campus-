{
 "cells": [
  {
   "cell_type": "code",
   "execution_count": 1,
   "metadata": {},
   "outputs": [
    {
     "data": {
      "text/plain": [
       "'f:\\\\Nam\\\\CODE\\\\SIC 2024\\\\Project\\\\Cleaning'"
      ]
     },
     "execution_count": 1,
     "metadata": {},
     "output_type": "execute_result"
    }
   ],
   "source": [
    "%pwd"
   ]
  },
  {
   "cell_type": "code",
   "execution_count": 2,
   "metadata": {},
   "outputs": [],
   "source": [
    "import pandas as pd"
   ]
  },
  {
   "cell_type": "code",
   "execution_count": 3,
   "metadata": {},
   "outputs": [
    {
     "name": "stdout",
     "output_type": "stream",
     "text": [
      "Requirement already satisfied: openpyxl in d:\\download\\anaconda_down\\anaconda _install\\envs\\env_bd\\lib\\site-packages (3.1.5)\n",
      "Requirement already satisfied: et-xmlfile in d:\\download\\anaconda_down\\anaconda _install\\envs\\env_bd\\lib\\site-packages (from openpyxl) (1.1.0)\n",
      "Note: you may need to restart the kernel to use updated packages.\n"
     ]
    }
   ],
   "source": [
    "pip install openpyxl"
   ]
  },
  {
   "cell_type": "code",
   "execution_count": 4,
   "metadata": {},
   "outputs": [
    {
     "name": "stdout",
     "output_type": "stream",
     "text": [
      "Requirement already satisfied: xlrd in d:\\download\\anaconda_down\\anaconda _install\\envs\\env_bd\\lib\\site-packages (2.0.1)\n",
      "Note: you may need to restart the kernel to use updated packages.\n"
     ]
    }
   ],
   "source": [
    "pip install xlrd"
   ]
  },
  {
   "cell_type": "code",
   "execution_count": 5,
   "metadata": {},
   "outputs": [
    {
     "name": "stdout",
     "output_type": "stream",
     "text": [
      "Requirement already satisfied: pandas in d:\\download\\anaconda_down\\anaconda _install\\envs\\env_bd\\lib\\site-packages (2.2.2)\n",
      "Requirement already satisfied: numpy>=1.23.2 in d:\\download\\anaconda_down\\anaconda _install\\envs\\env_bd\\lib\\site-packages (from pandas) (2.0.0)\n",
      "Requirement already satisfied: python-dateutil>=2.8.2 in d:\\download\\anaconda_down\\anaconda _install\\envs\\env_bd\\lib\\site-packages (from pandas) (2.9.0)\n",
      "Requirement already satisfied: pytz>=2020.1 in d:\\download\\anaconda_down\\anaconda _install\\envs\\env_bd\\lib\\site-packages (from pandas) (2024.1)\n",
      "Requirement already satisfied: tzdata>=2022.7 in d:\\download\\anaconda_down\\anaconda _install\\envs\\env_bd\\lib\\site-packages (from pandas) (2024.1)\n",
      "Requirement already satisfied: six>=1.5 in d:\\download\\anaconda_down\\anaconda _install\\envs\\env_bd\\lib\\site-packages (from python-dateutil>=2.8.2->pandas) (1.16.0)\n",
      "Note: you may need to restart the kernel to use updated packages.\n"
     ]
    }
   ],
   "source": [
    "pip install --upgrade pandas"
   ]
  },
  {
   "cell_type": "markdown",
   "metadata": {},
   "source": [
    "<h2> Import data</h2>\n"
   ]
  },
  {
   "cell_type": "code",
   "execution_count": 11,
   "metadata": {},
   "outputs": [
    {
     "name": "stdout",
     "output_type": "stream",
     "text": [
      "<class 'pandas.core.frame.DataFrame'>\n",
      "RangeIndex: 360212 entries, 0 to 360211\n",
      "Data columns (total 6 columns):\n",
      " #   Column        Non-Null Count   Dtype \n",
      "---  ------        --------------   ----- \n",
      " 0   Title         360211 non-null  object\n",
      " 1   Price         336684 non-null  object\n",
      " 2   CountPreview  354959 non-null  object\n",
      " 3   NameComment   360103 non-null  object\n",
      " 4   Comment       360211 non-null  object\n",
      " 5   Star          336845 non-null  object\n",
      "dtypes: object(6)\n",
      "memory usage: 16.5+ MB\n"
     ]
    }
   ],
   "source": [
    "df_=pd.read_csv(r\"F:\\Nam\\CODE\\SIC 2024\\Project\\Cleaning\\predata.csv\",encoding='utf-8')\n",
    "df=df_.copy()\n",
    "df.info()"
   ]
  },
  {
   "cell_type": "code",
   "execution_count": 7,
   "metadata": {},
   "outputs": [
    {
     "data": {
      "text/html": [
       "<div>\n",
       "<style scoped>\n",
       "    .dataframe tbody tr th:only-of-type {\n",
       "        vertical-align: middle;\n",
       "    }\n",
       "\n",
       "    .dataframe tbody tr th {\n",
       "        vertical-align: top;\n",
       "    }\n",
       "\n",
       "    .dataframe thead th {\n",
       "        text-align: right;\n",
       "    }\n",
       "</style>\n",
       "<table border=\"1\" class=\"dataframe\">\n",
       "  <thead>\n",
       "    <tr style=\"text-align: right;\">\n",
       "      <th></th>\n",
       "      <th>Title</th>\n",
       "      <th>Price</th>\n",
       "      <th>CountPreview</th>\n",
       "      <th>NameComment</th>\n",
       "      <th>Comment</th>\n",
       "      <th>Star</th>\n",
       "    </tr>\n",
       "  </thead>\n",
       "  <tbody>\n",
       "    <tr>\n",
       "      <th>0</th>\n",
       "      <td>\"Test Kỹ\" Tai Nghe Samsung Galasy J5 J7 Dùng c...</td>\n",
       "      <td>16000</td>\n",
       "      <td>2.4K Đã bán\\n(406)\\nHồ Chí Minh</td>\n",
       "      <td>0***2Chứng nhận đã mua hàng</td>\n",
       "      <td>nó bị giật điên khi đeo vào tai</td>\n",
       "      <td>NaN</td>\n",
       "    </tr>\n",
       "    <tr>\n",
       "      <th>1</th>\n",
       "      <td>\"Test Kỹ\" Tai Nghe Samsung Galasy J5 J7 Dùng c...</td>\n",
       "      <td>16000</td>\n",
       "      <td>2.4K Đã bán\\n(406)\\nHồ Chí Minh</td>\n",
       "      <td>*******668Chứng nhận đã mua hàng</td>\n",
       "      <td></td>\n",
       "      <td>★★★★☆</td>\n",
       "    </tr>\n",
       "    <tr>\n",
       "      <th>2</th>\n",
       "      <td>\"Test Kỹ\" Tai Nghe Samsung Galasy J5 J7 Dùng c...</td>\n",
       "      <td>16000</td>\n",
       "      <td>2.4K Đã bán\\n(406)\\nHồ Chí Minh</td>\n",
       "      <td>*******028Chứng nhận đã mua hàng</td>\n",
       "      <td></td>\n",
       "      <td>★★★★★</td>\n",
       "    </tr>\n",
       "    <tr>\n",
       "      <th>3</th>\n",
       "      <td>\"Test Kỹ\" Tai Nghe Samsung Galasy J5 J7 Dùng c...</td>\n",
       "      <td>16000</td>\n",
       "      <td>2.4K Đã bán\\n(406)\\nHồ Chí Minh</td>\n",
       "      <td>bé V.Chứng nhận đã mua hàng</td>\n",
       "      <td></td>\n",
       "      <td>★★★★☆</td>\n",
       "    </tr>\n",
       "    <tr>\n",
       "      <th>4</th>\n",
       "      <td>\"Test Kỹ\" Tai Nghe Samsung Galasy J5 J7 Dùng c...</td>\n",
       "      <td>16000</td>\n",
       "      <td>2.4K Đã bán\\n(406)\\nHồ Chí Minh</td>\n",
       "      <td>Chắc L.Chứng nhận đã mua hàng</td>\n",
       "      <td>đặt 2 tai mà 1 tai thì ok nhưng nút tăng giảm ...</td>\n",
       "      <td>NaN</td>\n",
       "    </tr>\n",
       "  </tbody>\n",
       "</table>\n",
       "</div>"
      ],
      "text/plain": [
       "                                               Title  Price  \\\n",
       "0  \"Test Kỹ\" Tai Nghe Samsung Galasy J5 J7 Dùng c...  16000   \n",
       "1  \"Test Kỹ\" Tai Nghe Samsung Galasy J5 J7 Dùng c...  16000   \n",
       "2  \"Test Kỹ\" Tai Nghe Samsung Galasy J5 J7 Dùng c...  16000   \n",
       "3  \"Test Kỹ\" Tai Nghe Samsung Galasy J5 J7 Dùng c...  16000   \n",
       "4  \"Test Kỹ\" Tai Nghe Samsung Galasy J5 J7 Dùng c...  16000   \n",
       "\n",
       "                      CountPreview                       NameComment  \\\n",
       "0  2.4K Đã bán\\n(406)\\nHồ Chí Minh       0***2Chứng nhận đã mua hàng   \n",
       "1  2.4K Đã bán\\n(406)\\nHồ Chí Minh  *******668Chứng nhận đã mua hàng   \n",
       "2  2.4K Đã bán\\n(406)\\nHồ Chí Minh  *******028Chứng nhận đã mua hàng   \n",
       "3  2.4K Đã bán\\n(406)\\nHồ Chí Minh       bé V.Chứng nhận đã mua hàng   \n",
       "4  2.4K Đã bán\\n(406)\\nHồ Chí Minh     Chắc L.Chứng nhận đã mua hàng   \n",
       "\n",
       "                                             Comment   Star  \n",
       "0                    nó bị giật điên khi đeo vào tai    NaN  \n",
       "1                                                     ★★★★☆  \n",
       "2                                                     ★★★★★  \n",
       "3                                                     ★★★★☆  \n",
       "4  đặt 2 tai mà 1 tai thì ok nhưng nút tăng giảm ...    NaN  "
      ]
     },
     "execution_count": 7,
     "metadata": {},
     "output_type": "execute_result"
    }
   ],
   "source": [
    "df.head()"
   ]
  },
  {
   "cell_type": "markdown",
   "metadata": {},
   "source": [
    "<h2> Drop unneeded columns</h2>"
   ]
  },
  {
   "cell_type": "code",
   "execution_count": 37,
   "metadata": {},
   "outputs": [],
   "source": [
    "df.drop([\"Unnamed: 6\",\"Unnamed: 7\",\"Unnamed: 8\",\"Unnamed: 9\",\"Unnamed: 10\",\"Unnamed: 11\",\"Unnamed: 12\",\"Unnamed: 13\",\"Unnamed: 14\",\"Unnamed: 15\",\"Unnamed: 16\",\"Unnamed: 17\",\"Unnamed: 18\",\"Unnamed: 19\",\"Unnamed: 20\",\"Unnamed: 21\",\"Unnamed: 22\"],axis=1,inplace=True)\n"
   ]
  },
  {
   "cell_type": "code",
   "execution_count": 38,
   "metadata": {},
   "outputs": [
    {
     "name": "stdout",
     "output_type": "stream",
     "text": [
      "<class 'pandas.core.frame.DataFrame'>\n",
      "RangeIndex: 319673 entries, 0 to 319672\n",
      "Data columns (total 6 columns):\n",
      " #   Column        Non-Null Count   Dtype \n",
      "---  ------        --------------   ----- \n",
      " 0   Title         319673 non-null  object\n",
      " 1   Price         317328 non-null  object\n",
      " 2   CountPreview  316621 non-null  object\n",
      " 3   NameComment   319609 non-null  object\n",
      " 4   Comment       228473 non-null  object\n",
      " 5   Star          298453 non-null  object\n",
      "dtypes: object(6)\n",
      "memory usage: 14.6+ MB\n"
     ]
    }
   ],
   "source": [
    "df.info()"
   ]
  },
  {
   "cell_type": "markdown",
   "metadata": {},
   "source": [
    "<h2> Cleaning</h2>"
   ]
  },
  {
   "cell_type": "code",
   "execution_count": 12,
   "metadata": {},
   "outputs": [
    {
     "data": {
      "text/plain": [
       "Title               1\n",
       "Price           23528\n",
       "CountPreview     5253\n",
       "NameComment       109\n",
       "Comment             1\n",
       "Star            23367\n",
       "dtype: int64"
      ]
     },
     "execution_count": 12,
     "metadata": {},
     "output_type": "execute_result"
    }
   ],
   "source": [
    "df.isna().sum()"
   ]
  },
  {
   "cell_type": "code",
   "execution_count": 13,
   "metadata": {},
   "outputs": [
    {
     "data": {
      "text/plain": [
       "np.int64(277221)"
      ]
     },
     "execution_count": 13,
     "metadata": {},
     "output_type": "execute_result"
    }
   ],
   "source": [
    "df.duplicated(subset=[\"NameComment\",\"Comment\",\"Star\"]).sum()"
   ]
  },
  {
   "cell_type": "code",
   "execution_count": 14,
   "metadata": {},
   "outputs": [],
   "source": [
    "df1=df.drop_duplicates(subset=[\"NameComment\",\"Comment\",\"Star\"])"
   ]
  },
  {
   "cell_type": "code",
   "execution_count": 15,
   "metadata": {},
   "outputs": [
    {
     "data": {
      "text/plain": [
       "np.int64(0)"
      ]
     },
     "execution_count": 15,
     "metadata": {},
     "output_type": "execute_result"
    }
   ],
   "source": [
    "df1.duplicated(subset=[\"NameComment\",\"Comment\",\"Star\"]).sum()"
   ]
  },
  {
   "cell_type": "code",
   "execution_count": 16,
   "metadata": {},
   "outputs": [
    {
     "name": "stdout",
     "output_type": "stream",
     "text": [
      "<class 'pandas.core.frame.DataFrame'>\n",
      "Index: 82991 entries, 0 to 348137\n",
      "Data columns (total 6 columns):\n",
      " #   Column        Non-Null Count  Dtype \n",
      "---  ------        --------------  ----- \n",
      " 0   Title         82990 non-null  object\n",
      " 1   Price         74316 non-null  object\n",
      " 2   CountPreview  81273 non-null  object\n",
      " 3   NameComment   82989 non-null  object\n",
      " 4   Comment       82990 non-null  object\n",
      " 5   Star          76410 non-null  object\n",
      "dtypes: object(6)\n",
      "memory usage: 4.4+ MB\n"
     ]
    }
   ],
   "source": [
    "df1.info()"
   ]
  },
  {
   "cell_type": "code",
   "execution_count": 17,
   "metadata": {},
   "outputs": [],
   "source": [
    "df2 = df1.dropna(subset=['Star'])"
   ]
  },
  {
   "cell_type": "code",
   "execution_count": 18,
   "metadata": {},
   "outputs": [
    {
     "data": {
      "text/plain": [
       "Title              0\n",
       "Price           7700\n",
       "CountPreview    1717\n",
       "NameComment        0\n",
       "Comment            0\n",
       "Star               0\n",
       "dtype: int64"
      ]
     },
     "execution_count": 18,
     "metadata": {},
     "output_type": "execute_result"
    }
   ],
   "source": [
    "df2.isna().sum()"
   ]
  },
  {
   "cell_type": "code",
   "execution_count": 19,
   "metadata": {},
   "outputs": [
    {
     "name": "stdout",
     "output_type": "stream",
     "text": [
      "<class 'pandas.core.frame.DataFrame'>\n",
      "Index: 76410 entries, 1 to 348137\n",
      "Data columns (total 6 columns):\n",
      " #   Column        Non-Null Count  Dtype \n",
      "---  ------        --------------  ----- \n",
      " 0   Title         76410 non-null  object\n",
      " 1   Price         68710 non-null  object\n",
      " 2   CountPreview  74693 non-null  object\n",
      " 3   NameComment   76410 non-null  object\n",
      " 4   Comment       76410 non-null  object\n",
      " 5   Star          76410 non-null  object\n",
      "dtypes: object(6)\n",
      "memory usage: 4.1+ MB\n"
     ]
    }
   ],
   "source": [
    "df2.info()"
   ]
  },
  {
   "cell_type": "markdown",
   "metadata": {},
   "source": [
    "<h3> Handle star numbers</h3>"
   ]
  },
  {
   "cell_type": "code",
   "execution_count": 20,
   "metadata": {},
   "outputs": [],
   "source": [
    "# Filter out rows with invalid characters in 'Star' column\n",
    "def filter_invalid_stars(df):\n",
    "    return df[df['Star'].str.match(r'^[\\s★☆]*$')]\n",
    "\n",
    "# Apply function to a copy of df2\n",
    "df2_filtered = filter_invalid_stars(df2.copy())\n"
   ]
  },
  {
   "cell_type": "code",
   "execution_count": 21,
   "metadata": {},
   "outputs": [],
   "source": [
    "df2_filtered['StarCount'] = df2_filtered['Star'].str.count('★')\n"
   ]
  },
  {
   "cell_type": "code",
   "execution_count": 22,
   "metadata": {},
   "outputs": [],
   "source": [
    "df2_filtered.drop('Star', axis=1, inplace=True)"
   ]
  },
  {
   "cell_type": "code",
   "execution_count": 23,
   "metadata": {},
   "outputs": [
    {
     "name": "stdout",
     "output_type": "stream",
     "text": [
      "<class 'pandas.core.frame.DataFrame'>\n",
      "Index: 75293 entries, 1 to 348137\n",
      "Data columns (total 6 columns):\n",
      " #   Column        Non-Null Count  Dtype \n",
      "---  ------        --------------  ----- \n",
      " 0   Title         75293 non-null  object\n",
      " 1   Price         67593 non-null  object\n",
      " 2   CountPreview  74445 non-null  object\n",
      " 3   NameComment   75293 non-null  object\n",
      " 4   Comment       75293 non-null  object\n",
      " 5   StarCount     75293 non-null  int64 \n",
      "dtypes: int64(1), object(5)\n",
      "memory usage: 4.0+ MB\n"
     ]
    }
   ],
   "source": [
    "df2_filtered.info()"
   ]
  },
  {
   "cell_type": "code",
   "execution_count": 24,
   "metadata": {},
   "outputs": [
    {
     "data": {
      "text/html": [
       "<div>\n",
       "<style scoped>\n",
       "    .dataframe tbody tr th:only-of-type {\n",
       "        vertical-align: middle;\n",
       "    }\n",
       "\n",
       "    .dataframe tbody tr th {\n",
       "        vertical-align: top;\n",
       "    }\n",
       "\n",
       "    .dataframe thead th {\n",
       "        text-align: right;\n",
       "    }\n",
       "</style>\n",
       "<table border=\"1\" class=\"dataframe\">\n",
       "  <thead>\n",
       "    <tr style=\"text-align: right;\">\n",
       "      <th></th>\n",
       "      <th>Title</th>\n",
       "      <th>Price</th>\n",
       "      <th>CountPreview</th>\n",
       "      <th>NameComment</th>\n",
       "      <th>Comment</th>\n",
       "      <th>StarCount</th>\n",
       "    </tr>\n",
       "  </thead>\n",
       "  <tbody>\n",
       "    <tr>\n",
       "      <th>1</th>\n",
       "      <td>\"Test Kỹ\" Tai Nghe Samsung Galasy J5 J7 Dùng c...</td>\n",
       "      <td>16000</td>\n",
       "      <td>2.4K Đã bán\\n(406)\\nHồ Chí Minh</td>\n",
       "      <td>*******668Chứng nhận đã mua hàng</td>\n",
       "      <td></td>\n",
       "      <td>4</td>\n",
       "    </tr>\n",
       "    <tr>\n",
       "      <th>2</th>\n",
       "      <td>\"Test Kỹ\" Tai Nghe Samsung Galasy J5 J7 Dùng c...</td>\n",
       "      <td>16000</td>\n",
       "      <td>2.4K Đã bán\\n(406)\\nHồ Chí Minh</td>\n",
       "      <td>*******028Chứng nhận đã mua hàng</td>\n",
       "      <td></td>\n",
       "      <td>5</td>\n",
       "    </tr>\n",
       "    <tr>\n",
       "      <th>3</th>\n",
       "      <td>\"Test Kỹ\" Tai Nghe Samsung Galasy J5 J7 Dùng c...</td>\n",
       "      <td>16000</td>\n",
       "      <td>2.4K Đã bán\\n(406)\\nHồ Chí Minh</td>\n",
       "      <td>bé V.Chứng nhận đã mua hàng</td>\n",
       "      <td></td>\n",
       "      <td>4</td>\n",
       "    </tr>\n",
       "    <tr>\n",
       "      <th>5</th>\n",
       "      <td>\"Test Kỹ\" Tai Nghe Samsung Galasy J5 J7 Dùng c...</td>\n",
       "      <td>16000</td>\n",
       "      <td>2.4K Đã bán\\n(406)\\nHồ Chí Minh</td>\n",
       "      <td>Truong L.Chứng nhận đã mua hàng</td>\n",
       "      <td></td>\n",
       "      <td>4</td>\n",
       "    </tr>\n",
       "    <tr>\n",
       "      <th>6</th>\n",
       "      <td>\"Test Kỹ\" Tai Nghe Samsung Galasy J5 J7 Dùng c...</td>\n",
       "      <td>16000</td>\n",
       "      <td>2.4K Đã bán\\n(406)\\nHồ Chí Minh</td>\n",
       "      <td>H***.Chứng nhận đã mua hàng</td>\n",
       "      <td></td>\n",
       "      <td>5</td>\n",
       "    </tr>\n",
       "  </tbody>\n",
       "</table>\n",
       "</div>"
      ],
      "text/plain": [
       "                                               Title  Price  \\\n",
       "1  \"Test Kỹ\" Tai Nghe Samsung Galasy J5 J7 Dùng c...  16000   \n",
       "2  \"Test Kỹ\" Tai Nghe Samsung Galasy J5 J7 Dùng c...  16000   \n",
       "3  \"Test Kỹ\" Tai Nghe Samsung Galasy J5 J7 Dùng c...  16000   \n",
       "5  \"Test Kỹ\" Tai Nghe Samsung Galasy J5 J7 Dùng c...  16000   \n",
       "6  \"Test Kỹ\" Tai Nghe Samsung Galasy J5 J7 Dùng c...  16000   \n",
       "\n",
       "                      CountPreview                       NameComment Comment  \\\n",
       "1  2.4K Đã bán\\n(406)\\nHồ Chí Minh  *******668Chứng nhận đã mua hàng           \n",
       "2  2.4K Đã bán\\n(406)\\nHồ Chí Minh  *******028Chứng nhận đã mua hàng           \n",
       "3  2.4K Đã bán\\n(406)\\nHồ Chí Minh       bé V.Chứng nhận đã mua hàng           \n",
       "5  2.4K Đã bán\\n(406)\\nHồ Chí Minh   Truong L.Chứng nhận đã mua hàng           \n",
       "6  2.4K Đã bán\\n(406)\\nHồ Chí Minh       H***.Chứng nhận đã mua hàng           \n",
       "\n",
       "   StarCount  \n",
       "1          4  \n",
       "2          5  \n",
       "3          4  \n",
       "5          4  \n",
       "6          5  "
      ]
     },
     "execution_count": 24,
     "metadata": {},
     "output_type": "execute_result"
    }
   ],
   "source": [
    "df2_filtered.head()"
   ]
  },
  {
   "cell_type": "markdown",
   "metadata": {},
   "source": [
    "<h3> Fill NA comment cells</h3>"
   ]
  },
  {
   "cell_type": "code",
   "execution_count": null,
   "metadata": {},
   "outputs": [],
   "source": [
    "df2_filtered.loc[:, 'Comment'] = df2['Comment'].fillna(\"\").astype(str)\n",
    "df2_filtered.info()"
   ]
  },
  {
   "cell_type": "code",
   "execution_count": null,
   "metadata": {},
   "outputs": [],
   "source": [
    "df2_filtered.head()"
   ]
  },
  {
   "cell_type": "markdown",
   "metadata": {},
   "source": [
    "<h3> Filter special characters</h3>"
   ]
  },
  {
   "cell_type": "code",
   "execution_count": 27,
   "metadata": {},
   "outputs": [],
   "source": [
    "import pandas as pd\n",
    "import re\n",
    "\n",
    "# Function to filter special characters for Vietnamese text\n",
    "def filter_vietnamese_specials(text):\n",
    "  \"\"\"\n",
    "  Filters special characters while preserving Vietnamese characters.\n",
    "\n",
    "  Args:\n",
    "      text: The text to be filtered.\n",
    "\n",
    "  Returns:\n",
    "      The filtered text with special characters removed.\n",
    "  \"\"\"\n",
    "  # Regular expression to match special characters except Vietnamese characters\n",
    "  special_chars_pattern = r\"[^\\w\\sÀÁÃẮẰẠẢẤÃÕÖỐỒƠỞỜỢƯỨỪỰÝỲỴỶỸĐđ]\"\n",
    "  return re.sub(special_chars_pattern, \" \", text)\n",
    "\n",
    "# Apply the filtering function to the \"Comment\" column only\n",
    "df3=df2_filtered.copy()\n",
    "df3['Comment'] = df2_filtered['Comment'].apply(filter_vietnamese_specials)\n"
   ]
  },
  {
   "cell_type": "code",
   "execution_count": 28,
   "metadata": {},
   "outputs": [
    {
     "name": "stdout",
     "output_type": "stream",
     "text": [
      "<class 'pandas.core.frame.DataFrame'>\n",
      "Index: 75293 entries, 1 to 348137\n",
      "Data columns (total 6 columns):\n",
      " #   Column        Non-Null Count  Dtype \n",
      "---  ------        --------------  ----- \n",
      " 0   Title         75293 non-null  object\n",
      " 1   Price         67593 non-null  object\n",
      " 2   CountPreview  74445 non-null  object\n",
      " 3   NameComment   75293 non-null  object\n",
      " 4   Comment       75293 non-null  object\n",
      " 5   StarCount     75293 non-null  int64 \n",
      "dtypes: int64(1), object(5)\n",
      "memory usage: 4.0+ MB\n"
     ]
    }
   ],
   "source": [
    "df3.info()"
   ]
  },
  {
   "cell_type": "code",
   "execution_count": 29,
   "metadata": {},
   "outputs": [
    {
     "name": "stdout",
     "output_type": "stream",
     "text": [
      "                                                    Title   Price  \\\n",
      "1       \"Test Kỹ\" Tai Nghe Samsung Galasy J5 J7 Dùng c...   16000   \n",
      "2       \"Test Kỹ\" Tai Nghe Samsung Galasy J5 J7 Dùng c...   16000   \n",
      "3       \"Test Kỹ\" Tai Nghe Samsung Galasy J5 J7 Dùng c...   16000   \n",
      "5       \"Test Kỹ\" Tai Nghe Samsung Galasy J5 J7 Dùng c...   16000   \n",
      "6       \"Test Kỹ\" Tai Nghe Samsung Galasy J5 J7 Dùng c...   16000   \n",
      "...                                                   ...     ...   \n",
      "347789  Tuya smart camera fofu 5MP IP WiFi fofu multi-...  190000   \n",
      "347790  Tuya smart camera fofu 5MP IP WiFi fofu multi-...  190000   \n",
      "347791  Tuya smart camera fofu 5MP IP WiFi fofu multi-...  190000   \n",
      "347793  Tuya Smart Life Wifi IP Camera chống trộm Xem ...  169000   \n",
      "348137  Tuya Smart Life Wifi IP Camera chống trộm Xem ...  169000   \n",
      "\n",
      "                           CountPreview                       NameComment  \\\n",
      "1       2.4K Đã bán\\n(406)\\nHồ Chí Minh  *******668Chứng nhận đã mua hàng   \n",
      "2       2.4K Đã bán\\n(406)\\nHồ Chí Minh  *******028Chứng nhận đã mua hàng   \n",
      "3       2.4K Đã bán\\n(406)\\nHồ Chí Minh       bé V.Chứng nhận đã mua hàng   \n",
      "5       2.4K Đã bán\\n(406)\\nHồ Chí Minh   Truong L.Chứng nhận đã mua hàng   \n",
      "6       2.4K Đã bán\\n(406)\\nHồ Chí Minh       H***.Chứng nhận đã mua hàng   \n",
      "...                                 ...                               ...   \n",
      "347789      136 sold\\n(50)\\nHồ Chí Minh      Sơn N.Chứng nhận đã mua hàng   \n",
      "347790      136 sold\\n(50)\\nHồ Chí Minh      Sơn N.Chứng nhận đã mua hàng   \n",
      "347791      136 sold\\n(50)\\nHồ Chí Minh      Sơn N.Chứng nhận đã mua hàng   \n",
      "347793  1.6K Đã bán\\n(534)\\nHồ Chí Minh   ******697Chứng nhận đã mua hàng   \n",
      "348137  1.6K Đã bán\\n(534)\\nHồ Chí Minh    huynh K.Chứng nhận đã mua hàng   \n",
      "\n",
      "                                                  Comment  StarCount  \n",
      "1                                                                  4  \n",
      "2                                                                  5  \n",
      "3                                                                  4  \n",
      "5                                                                  4  \n",
      "6                                                                  5  \n",
      "...                                                   ...        ...  \n",
      "347789  Convenient cloud management  Sturdy and durabl...          2  \n",
      "347790  Giá trị tuyệt vời cho số tiền bỏ ra  Hình ảnh ...          5  \n",
      "347791  Cài đặt dễ dàng với mã QR  Giá trị tuyệt vời c...          1  \n",
      "347793                                                             5  \n",
      "348137                                                             5  \n",
      "\n",
      "[75293 rows x 6 columns]\n"
     ]
    }
   ],
   "source": [
    "print(df3)"
   ]
  },
  {
   "cell_type": "code",
   "execution_count": 30,
   "metadata": {},
   "outputs": [
    {
     "data": {
      "text/html": [
       "<div>\n",
       "<style scoped>\n",
       "    .dataframe tbody tr th:only-of-type {\n",
       "        vertical-align: middle;\n",
       "    }\n",
       "\n",
       "    .dataframe tbody tr th {\n",
       "        vertical-align: top;\n",
       "    }\n",
       "\n",
       "    .dataframe thead th {\n",
       "        text-align: right;\n",
       "    }\n",
       "</style>\n",
       "<table border=\"1\" class=\"dataframe\">\n",
       "  <thead>\n",
       "    <tr style=\"text-align: right;\">\n",
       "      <th></th>\n",
       "      <th>Title</th>\n",
       "      <th>Price</th>\n",
       "      <th>CountPreview</th>\n",
       "      <th>NameComment</th>\n",
       "      <th>Comment</th>\n",
       "      <th>StarCount</th>\n",
       "    </tr>\n",
       "  </thead>\n",
       "  <tbody>\n",
       "    <tr>\n",
       "      <th>1</th>\n",
       "      <td>\"Test Kỹ\" Tai Nghe Samsung Galasy J5 J7 Dùng c...</td>\n",
       "      <td>16000</td>\n",
       "      <td>2.4K Đã bán\\n(406)\\nHồ Chí Minh</td>\n",
       "      <td>*******668Chứng nhận đã mua hàng</td>\n",
       "      <td></td>\n",
       "      <td>4</td>\n",
       "    </tr>\n",
       "    <tr>\n",
       "      <th>2</th>\n",
       "      <td>\"Test Kỹ\" Tai Nghe Samsung Galasy J5 J7 Dùng c...</td>\n",
       "      <td>16000</td>\n",
       "      <td>2.4K Đã bán\\n(406)\\nHồ Chí Minh</td>\n",
       "      <td>*******028Chứng nhận đã mua hàng</td>\n",
       "      <td></td>\n",
       "      <td>5</td>\n",
       "    </tr>\n",
       "    <tr>\n",
       "      <th>3</th>\n",
       "      <td>\"Test Kỹ\" Tai Nghe Samsung Galasy J5 J7 Dùng c...</td>\n",
       "      <td>16000</td>\n",
       "      <td>2.4K Đã bán\\n(406)\\nHồ Chí Minh</td>\n",
       "      <td>bé V.Chứng nhận đã mua hàng</td>\n",
       "      <td></td>\n",
       "      <td>4</td>\n",
       "    </tr>\n",
       "    <tr>\n",
       "      <th>5</th>\n",
       "      <td>\"Test Kỹ\" Tai Nghe Samsung Galasy J5 J7 Dùng c...</td>\n",
       "      <td>16000</td>\n",
       "      <td>2.4K Đã bán\\n(406)\\nHồ Chí Minh</td>\n",
       "      <td>Truong L.Chứng nhận đã mua hàng</td>\n",
       "      <td></td>\n",
       "      <td>4</td>\n",
       "    </tr>\n",
       "    <tr>\n",
       "      <th>6</th>\n",
       "      <td>\"Test Kỹ\" Tai Nghe Samsung Galasy J5 J7 Dùng c...</td>\n",
       "      <td>16000</td>\n",
       "      <td>2.4K Đã bán\\n(406)\\nHồ Chí Minh</td>\n",
       "      <td>H***.Chứng nhận đã mua hàng</td>\n",
       "      <td></td>\n",
       "      <td>5</td>\n",
       "    </tr>\n",
       "  </tbody>\n",
       "</table>\n",
       "</div>"
      ],
      "text/plain": [
       "                                               Title  Price  \\\n",
       "1  \"Test Kỹ\" Tai Nghe Samsung Galasy J5 J7 Dùng c...  16000   \n",
       "2  \"Test Kỹ\" Tai Nghe Samsung Galasy J5 J7 Dùng c...  16000   \n",
       "3  \"Test Kỹ\" Tai Nghe Samsung Galasy J5 J7 Dùng c...  16000   \n",
       "5  \"Test Kỹ\" Tai Nghe Samsung Galasy J5 J7 Dùng c...  16000   \n",
       "6  \"Test Kỹ\" Tai Nghe Samsung Galasy J5 J7 Dùng c...  16000   \n",
       "\n",
       "                      CountPreview                       NameComment Comment  \\\n",
       "1  2.4K Đã bán\\n(406)\\nHồ Chí Minh  *******668Chứng nhận đã mua hàng           \n",
       "2  2.4K Đã bán\\n(406)\\nHồ Chí Minh  *******028Chứng nhận đã mua hàng           \n",
       "3  2.4K Đã bán\\n(406)\\nHồ Chí Minh       bé V.Chứng nhận đã mua hàng           \n",
       "5  2.4K Đã bán\\n(406)\\nHồ Chí Minh   Truong L.Chứng nhận đã mua hàng           \n",
       "6  2.4K Đã bán\\n(406)\\nHồ Chí Minh       H***.Chứng nhận đã mua hàng           \n",
       "\n",
       "   StarCount  \n",
       "1          4  \n",
       "2          5  \n",
       "3          4  \n",
       "5          4  \n",
       "6          5  "
      ]
     },
     "execution_count": 30,
     "metadata": {},
     "output_type": "execute_result"
    }
   ],
   "source": [
    "df3.head()"
   ]
  },
  {
   "cell_type": "markdown",
   "metadata": {},
   "source": [
    "<h3>Save</h3>"
   ]
  },
  {
   "cell_type": "code",
   "execution_count": 31,
   "metadata": {},
   "outputs": [],
   "source": [
    "# Define the path and filename for the CSV file\n",
    "csv_file_path = \"data_cleaning.csv\"  # Replace with your desired filename\n",
    "\n",
    "# Save the DataFrame to the CSV file with UTF-8 encoding\n",
    "df3.to_csv(csv_file_path, index=False, encoding='utf-8')  # Set index=False to exclude the index column"
   ]
  },
  {
   "cell_type": "markdown",
   "metadata": {},
   "source": [
    "<h2>Test code</h2>"
   ]
  },
  {
   "cell_type": "code",
   "execution_count": 26,
   "metadata": {},
   "outputs": [
    {
     "name": "stdout",
     "output_type": "stream",
     "text": [
      "bào ヾ      oquan tổn g hợp chuỗi po lypep tide dựa trên khuôn mã của          ARN thông tin  Me\n"
     ]
    }
   ],
   "source": [
    "import pandas as pd\n",
    "import re\n",
    "\n",
    "# Function to filter special characters for Vietnamese text\n",
    "def filter_vietnamese_specials(text):\n",
    "  \"\"\"\n",
    "  Filters special characters while preserving Vietnamese characters.\n",
    "\n",
    "  Args:\n",
    "      text: The text to be filtered.\n",
    "\n",
    "  Returns:\n",
    "      The filtered text with special characters removed.\n",
    "  \"\"\"\n",
    "  # Regular expression to match special characters except Vietnamese characters\n",
    "  special_chars_pattern = r\"[^\\w\\sÀÁÃẮẰẠẢẤÃÕÖỐỒƠỞỜỢƯỨỪỰÝỲỴỶỸĐđ]\"\n",
    "  return re.sub(special_chars_pattern, \" \", text)\n",
    "\n",
    "\n",
    "\n",
    "# Print the DataFrame with filtered comments\n",
    "print(filter_vietnamese_specials(\"bào ヾ(≧▽≦*)oquan tổn😘g hợp chuỗi po,lypep.tide dựa trên khuôn mã của!>?    @@ ARN thông tin (Me\"))\n"
   ]
  }
 ],
 "metadata": {
  "kernelspec": {
   "display_name": "env_BD",
   "language": "python",
   "name": "python3"
  },
  "language_info": {
   "codemirror_mode": {
    "name": "ipython",
    "version": 3
   },
   "file_extension": ".py",
   "mimetype": "text/x-python",
   "name": "python",
   "nbconvert_exporter": "python",
   "pygments_lexer": "ipython3",
   "version": "3.11.9"
  }
 },
 "nbformat": 4,
 "nbformat_minor": 2
}
